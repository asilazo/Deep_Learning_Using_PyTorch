{
  "nbformat": 4,
  "nbformat_minor": 0,
  "metadata": {
    "colab": {
      "name": "Getting Started with PyTorch.ipynb",
      "provenance": [],
      "collapsed_sections": []
    },
    "kernelspec": {
      "name": "python3810jvsc74a57bd0fec8b102f7b88d2f49c12802992373495edaa2417752b343d572adbca691d53d",
      "display_name": "Python 3.8.10 64-bit ('tnsflow2_gpu': conda)"
    }
  },
  "cells": [
    {
      "cell_type": "markdown",
      "metadata": {
        "id": "YDSlY0-jY2st"
      },
      "source": [
        "# *Tensors*\n",
        "\n",
        "Creating Tensors in Pytorch"
      ]
    },
    {
      "cell_type": "code",
      "metadata": {
        "colab": {
          "base_uri": "https://localhost:8080/"
        },
        "id": "wB3olyzNZq3Z",
        "outputId": "68a3df5b-d7fb-43b6-bc74-38927f0b67ef"
      },
      "source": [
        "#pip install torch torchvision torchaudio"
      ],
      "execution_count": null,
      "outputs": [
        {
          "output_type": "stream",
          "text": [
            "Requirement already satisfied: torch in /usr/local/lib/python3.7/dist-packages (1.7.1+cu101)\n",
            "Requirement already satisfied: torchvision in /usr/local/lib/python3.7/dist-packages (0.8.2+cu101)\n",
            "Requirement already satisfied: torchaudio in /usr/local/lib/python3.7/dist-packages (0.8.0)\n",
            "Requirement already satisfied: typing-extensions in /usr/local/lib/python3.7/dist-packages (from torch) (3.7.4.3)\n",
            "Requirement already satisfied: numpy in /usr/local/lib/python3.7/dist-packages (from torch) (1.19.5)\n",
            "Requirement already satisfied: pillow>=4.1.1 in /usr/local/lib/python3.7/dist-packages (from torchvision) (7.0.0)\n"
          ],
          "name": "stdout"
        }
      ]
    },
    {
      "cell_type": "code",
      "metadata": {
        "colab": {
          "base_uri": "https://localhost:8080/",
          "height": 460
        },
        "id": "rFzunxsP6IWc",
        "outputId": "d1793ca2-b5e4-46c3-cfdd-77b6d55fbb15"
      },
      "source": [
        "#pip install torch==1.8.1+cu102 torchvision==0.9.1+cu102 torchaudio===0.8.1 -f https://download.pytorch.org/whl/torch_stable.html"
      ],
      "execution_count": null,
      "outputs": [
        {
          "output_type": "stream",
          "text": [
            "Looking in links: https://download.pytorch.org/whl/torch_stable.html\n",
            "Collecting torch==1.8.1+cu102\n",
            "\u001b[?25l  Downloading https://download.pytorch.org/whl/cu102/torch-1.8.1%2Bcu102-cp37-cp37m-linux_x86_64.whl (804.1MB)\n",
            "\u001b[K     |████████████████████████████████| 804.1MB 21kB/s \n",
            "\u001b[?25hCollecting torchvision==0.9.1+cu102\n",
            "\u001b[?25l  Downloading https://download.pytorch.org/whl/cu102/torchvision-0.9.1%2Bcu102-cp37-cp37m-linux_x86_64.whl (17.3MB)\n",
            "\u001b[K     |████████████████████████████████| 17.3MB 202kB/s \n",
            "\u001b[?25hCollecting torchaudio===0.8.1\n",
            "\u001b[?25l  Downloading https://files.pythonhosted.org/packages/aa/55/01ad9244bcd595e39cea5ce30726a7fe02fd963d07daeb136bfe7e23f0a5/torchaudio-0.8.1-cp37-cp37m-manylinux1_x86_64.whl (1.9MB)\n",
            "\u001b[K     |████████████████████████████████| 1.9MB 23.2MB/s \n",
            "\u001b[?25hRequirement already satisfied: typing-extensions in /usr/local/lib/python3.7/dist-packages (from torch==1.8.1+cu102) (3.7.4.3)\n",
            "Requirement already satisfied: numpy in /usr/local/lib/python3.7/dist-packages (from torch==1.8.1+cu102) (1.19.5)\n",
            "Requirement already satisfied: pillow>=4.1.1 in /usr/local/lib/python3.7/dist-packages (from torchvision==0.9.1+cu102) (7.1.2)\n",
            "Installing collected packages: torch, torchvision, torchaudio\n",
            "  Found existing installation: torch 1.8.1+cu101\n",
            "    Uninstalling torch-1.8.1+cu101:\n",
            "      Successfully uninstalled torch-1.8.1+cu101\n",
            "  Found existing installation: torchvision 0.9.1+cu101\n",
            "    Uninstalling torchvision-0.9.1+cu101:\n",
            "      Successfully uninstalled torchvision-0.9.1+cu101\n",
            "Successfully installed torch-1.8.1+cu102 torchaudio-0.8.1 torchvision-0.9.1+cu102\n"
          ],
          "name": "stdout"
        },
        {
          "output_type": "display_data",
          "data": {
            "application/vnd.colab-display-data+json": {
              "pip_warning": {
                "packages": [
                  "torch"
                ]
              }
            }
          },
          "metadata": {
            "tags": []
          }
        }
      ]
    },
    {
      "cell_type": "code",
      "metadata": {
        "colab": {
          "base_uri": "https://localhost:8080/"
        },
        "id": "ChwP5zVaYsGf",
        "outputId": "fe317916-ba82-42f2-9f19-c64d2f0f66ad"
      },
      "source": [
        "import torch\n",
        "\n",
        "print(torch.__version__)"
      ],
      "execution_count": 1,
      "outputs": [
        {
          "output_type": "stream",
          "name": "stdout",
          "text": [
            "1.8.1+cu102\n"
          ]
        }
      ]
    },
    {
      "cell_type": "code",
      "metadata": {
        "colab": {
          "base_uri": "https://localhost:8080/"
        },
        "id": "OaDE7NkQc8Uy",
        "outputId": "0955b23d-4a1c-4a21-8307-2a7bb9e2b360"
      },
      "source": [
        "x = torch.Tensor(5,3) # generate a tensor\n",
        "print(f'printing x ------------------------------------')\n",
        "print()\n",
        "print(x)\n",
        "print()\n",
        "\n",
        "y = torch.rand(5,3) # generate random matrix of floats\n",
        "print(f'printing y ------------------------------------')\n",
        "print()\n",
        "print(y)\n",
        "\n",
        "# generate random tensor within a specified interval\n",
        "z = torch.randint(10,100,(2,3))\n",
        "print(f'printing z -----------------------------------')\n",
        "print()\n",
        "print(z)"
      ],
      "execution_count": 2,
      "outputs": [
        {
          "output_type": "stream",
          "name": "stdout",
          "text": [
            "printing x ------------------------------------\n\ntensor([[1.8469e+25, 8.7126e-04, 2.6451e+20],\n        [4.4264e+30, 3.4059e-15, 7.3988e+31],\n        [4.4849e+21, 2.7370e+20, 6.4640e-04],\n        [7.9290e+29, 7.5546e+31, 1.6932e+22],\n        [6.9722e+22, 1.7973e+19, 2.9967e+32]])\n\nprinting y ------------------------------------\n\ntensor([[0.0393, 0.3974, 0.7390],\n        [0.1421, 0.3758, 0.2068],\n        [0.1621, 0.9385, 0.3986],\n        [0.7020, 0.5487, 0.4531],\n        [0.2071, 0.4329, 0.4779]])\nprinting z -----------------------------------\n\ntensor([[48, 27, 39],\n        [17, 43, 33]])\n"
          ]
        }
      ]
    },
    {
      "cell_type": "markdown",
      "metadata": {
        "id": "F8JrhrDK7voV"
      },
      "source": [
        "**Getting the shape of a tensor**\n",
        "\n",
        "The shape indicates the dimensions of the tensor and the total\n",
        "number of dimensions that would be used to infer the rank of the tensor"
      ]
    },
    {
      "cell_type": "code",
      "metadata": {
        "colab": {
          "base_uri": "https://localhost:8080/"
        },
        "id": "uRqlx5R37ua_",
        "outputId": "47b500ff-a40d-4dda-8b72-d8c52e90b5cd"
      },
      "source": [
        "a = torch.tensor([[0.1,0.2], [0.3,0.4]])\n",
        "print(a)\n",
        "print()\n",
        "\n",
        "print(f'printing the shape of a')\n",
        "print('--------------------------')\n",
        "print(a.shape)"
      ],
      "execution_count": null,
      "outputs": [
        {
          "output_type": "stream",
          "text": [
            "tensor([[0.1000, 0.2000],\n",
            "        [0.3000, 0.4000]])\n",
            "\n",
            "printing the shape of a\n",
            "--------------------------\n",
            "torch.Size([2, 2])\n"
          ],
          "name": "stdout"
        }
      ]
    },
    {
      "cell_type": "code",
      "metadata": {
        "colab": {
          "base_uri": "https://localhost:8080/"
        },
        "id": "ZRiyMofT8jWr",
        "outputId": "f4ea94dd-7d53-4f3b-8eb2-23e921182de4"
      },
      "source": [
        "b = torch.tensor([[0.1, 0.2],[0.3, 0.4],[0.5, 0.6]])\n",
        "b.shape"
      ],
      "execution_count": null,
      "outputs": [
        {
          "output_type": "execute_result",
          "data": {
            "text/plain": [
              "torch.Size([3, 2])"
            ]
          },
          "metadata": {
            "tags": []
          },
          "execution_count": 4
        }
      ]
    },
    {
      "cell_type": "code",
      "metadata": {
        "colab": {
          "base_uri": "https://localhost:8080/"
        },
        "id": "O7nl4stI8uhG",
        "outputId": "b4c1c5ed-d1f2-4a9c-d45c-b23a4f8576eb"
      },
      "source": [
        "# Creating Tensors with Arbitrary Dimensions\n",
        "\n",
        "c = torch.tensor([[[0.1],[0.2]],[[0.3],[0.4]],[[0.5],[0.6]]])\n",
        "print(c)\n",
        "print()\n",
        "c.shape"
      ],
      "execution_count": null,
      "outputs": [
        {
          "output_type": "stream",
          "text": [
            "tensor([[[0.1000],\n",
            "         [0.2000]],\n",
            "\n",
            "        [[0.3000],\n",
            "         [0.4000]],\n",
            "\n",
            "        [[0.5000],\n",
            "         [0.6000]]])\n",
            "\n"
          ],
          "name": "stdout"
        },
        {
          "output_type": "execute_result",
          "data": {
            "text/plain": [
              "torch.Size([3, 2, 1])"
            ]
          },
          "metadata": {
            "tags": []
          },
          "execution_count": 6
        }
      ]
    },
    {
      "cell_type": "code",
      "metadata": {
        "colab": {
          "base_uri": "https://localhost:8080/"
        },
        "id": "CQindb5u9CoE",
        "outputId": "5074ead4-66ee-4ad2-8285-2eff43b135a1"
      },
      "source": [
        "# Creating Tensors with NumPy\n",
        "\n",
        "import numpy as np\n",
        "\n",
        "a = torch.tensor(np.array([[0.1,0.2], [0.3, 0.4]]))\n",
        "print(a)\n",
        "\n",
        "print()\n",
        "a.shape"
      ],
      "execution_count": null,
      "outputs": [
        {
          "output_type": "stream",
          "text": [
            "tensor([[0.1000, 0.2000],\n",
            "        [0.3000, 0.4000]], dtype=torch.float64)\n",
            "\n"
          ],
          "name": "stdout"
        },
        {
          "output_type": "execute_result",
          "data": {
            "text/plain": [
              "torch.Size([2, 2])"
            ]
          },
          "metadata": {
            "tags": []
          },
          "execution_count": 7
        }
      ]
    },
    {
      "cell_type": "code",
      "metadata": {
        "colab": {
          "base_uri": "https://localhost:8080/"
        },
        "id": "P9ES5tfs9mxP",
        "outputId": "f0295f96-ca2e-4dab-ee44-9553faccf917"
      },
      "source": [
        "# Creating Tensors from NumPy\n",
        "\n",
        "a = np.array([1,2,3,4,5])\n",
        "tensor_a = torch.from_numpy(a)\n",
        "print(tensor_a)"
      ],
      "execution_count": null,
      "outputs": [
        {
          "output_type": "stream",
          "text": [
            "tensor([1, 2, 3, 4, 5])\n"
          ],
          "name": "stdout"
        }
      ]
    },
    {
      "cell_type": "markdown",
      "metadata": {
        "id": "RduvM7VP_P4b"
      },
      "source": [
        "Tensors are multi-dimensional\n",
        "arrays of the same type. We can specify the type when we construct a\n",
        "tensor. In the following examples, we initialize the tensor with 32-bit\n",
        "floating point numbers, 64-bit floating-point numbers, and 16-bit floating\n",
        "point numbers. PyTorch defines a total of eight types"
      ]
    },
    {
      "cell_type": "code",
      "metadata": {
        "colab": {
          "base_uri": "https://localhost:8080/"
        },
        "id": "c2pvjhfp_dB5",
        "outputId": "21165105-0e71-40ab-cc32-f1f2eac4f5ae"
      },
      "source": [
        "# Defining Tensor Datatypes\n",
        "\n",
        "print(f'Printing the 32-bit tensor')\n",
        "a = torch.tensor([[0.1, 0.2],[0.3, 0.4]], dtype=torch.float32)\n",
        "print(a)\n",
        "print()\n",
        "\n",
        "print(f'Printing the 64-bit tensor')\n",
        "a = torch.tensor([[0.1, 0.2],[0.3, 0.4]], dtype=torch.float64)\n",
        "print(a)"
      ],
      "execution_count": null,
      "outputs": [
        {
          "output_type": "stream",
          "text": [
            "Printing a 32-bit tensor\n",
            "tensor([[0.1000, 0.2000],\n",
            "        [0.3000, 0.4000]])\n",
            "\n",
            "Printing a 64-bit tensor\n",
            "tensor([[0.1000, 0.2000],\n",
            "        [0.3000, 0.4000]], dtype=torch.float64)\n"
          ],
          "name": "stdout"
        }
      ]
    },
    {
      "cell_type": "code",
      "metadata": {
        "colab": {
          "base_uri": "https://localhost:8080/"
        },
        "id": "yoVlPPZgA0rp",
        "outputId": "c006101f-bb04-4f03-cc3d-e553fbb4df46"
      },
      "source": [
        "# Creating a Tensor with Random Values\n",
        "\n",
        "r = torch.rand(2,2,2)\n",
        "print(r)\n",
        "print()\n",
        "print(r.shape)"
      ],
      "execution_count": null,
      "outputs": [
        {
          "output_type": "stream",
          "text": [
            "tensor([[[0.6289, 0.0660],\n",
            "         [0.8904, 0.8841]],\n",
            "\n",
            "        [[0.2286, 0.5962],\n",
            "         [0.4001, 0.3141]]])\n",
            "\n",
            "torch.Size([2, 2, 2])\n"
          ],
          "name": "stdout"
        }
      ]
    },
    {
      "cell_type": "code",
      "metadata": {
        "colab": {
          "base_uri": "https://localhost:8080/"
        },
        "id": "D6qmmpzABWMH",
        "outputId": "7c8cd25b-f5fe-43fb-99e9-207b72f493c5"
      },
      "source": [
        "# Creating a Tensor Having All Zeros\n",
        "\n",
        "zeros = torch.zeros(2,2,4)\n",
        "print(zeros)\n",
        "print()\n",
        "\n",
        "print(zeros.shape)"
      ],
      "execution_count": null,
      "outputs": [
        {
          "output_type": "stream",
          "text": [
            "tensor([[[0., 0., 0., 0.],\n",
            "         [0., 0., 0., 0.]],\n",
            "\n",
            "        [[0., 0., 0., 0.],\n",
            "         [0., 0., 0., 0.]]])\n",
            "\n",
            "torch.Size([2, 2, 4])\n"
          ],
          "name": "stdout"
        }
      ]
    },
    {
      "cell_type": "code",
      "metadata": {
        "colab": {
          "base_uri": "https://localhost:8080/"
        },
        "id": "oXAgOQVTB7T6",
        "outputId": "fe9a6cda-b0d5-4964-c693-836aaff7027a"
      },
      "source": [
        "# Creating a Tensor Having All Ones\n",
        "\n",
        "ones = torch.ones(2,2,3)\n",
        "print(ones)\n",
        "print()\n",
        "\n",
        "print(ones.shape)"
      ],
      "execution_count": null,
      "outputs": [
        {
          "output_type": "stream",
          "text": [
            "tensor([[[1., 1., 1.],\n",
            "         [1., 1., 1.]],\n",
            "\n",
            "        [[1., 1., 1.],\n",
            "         [1., 1., 1.]]])\n",
            "\n",
            "torch.Size([2, 2, 3])\n"
          ],
          "name": "stdout"
        }
      ]
    },
    {
      "cell_type": "code",
      "metadata": {
        "colab": {
          "base_uri": "https://localhost:8080/"
        },
        "id": "IZJOomRpCP6f",
        "outputId": "0806be96-54b5-4581-af7a-3311553c42b7"
      },
      "source": [
        "# Creating an Identity Matix Tensor\n",
        "\n",
        "i = torch.eye(3)\n",
        "print(i)\n",
        "print()"
      ],
      "execution_count": null,
      "outputs": [
        {
          "output_type": "stream",
          "text": [
            "tensor([[1., 0., 0.],\n",
            "        [0., 1., 0.],\n",
            "        [0., 0., 1.]])\n",
            "\n",
            "tensor([[1., 0., 0.],\n",
            "        [0., 1., 0.],\n",
            "        [0., 0., 1.]])\n"
          ],
          "name": "stdout"
        }
      ]
    },
    {
      "cell_type": "code",
      "metadata": {
        "colab": {
          "base_uri": "https://localhost:8080/"
        },
        "id": "VQZxU2qlFX9T",
        "outputId": "33c83d5f-1985-4c46-fbe8-85a10e6e70b4"
      },
      "source": [
        "# Creating a Tensor Filled with an Arbitrary Value\n",
        "\n",
        "f = torch.full((5,5), 0.8)\n",
        "print(f)"
      ],
      "execution_count": null,
      "outputs": [
        {
          "output_type": "stream",
          "text": [
            "tensor([[0.8000, 0.8000, 0.8000, 0.8000, 0.8000],\n",
            "        [0.8000, 0.8000, 0.8000, 0.8000, 0.8000],\n",
            "        [0.8000, 0.8000, 0.8000, 0.8000, 0.8000],\n",
            "        [0.8000, 0.8000, 0.8000, 0.8000, 0.8000],\n",
            "        [0.8000, 0.8000, 0.8000, 0.8000, 0.8000]])\n"
          ],
          "name": "stdout"
        }
      ]
    },
    {
      "cell_type": "code",
      "metadata": {
        "colab": {
          "base_uri": "https://localhost:8080/"
        },
        "id": "vNOg6VeDGWUI",
        "outputId": "669c59d6-5bad-4420-a37a-97a3eb934dee"
      },
      "source": [
        "# Creating a Tensor with Linearly Spaced Floating-Point Numbers\n",
        "\n",
        "lin = torch.linspace(0, 20, steps=10)\n",
        "print(lin)"
      ],
      "execution_count": null,
      "outputs": [
        {
          "output_type": "stream",
          "text": [
            "tensor([ 0.0000,  2.2222,  4.4444,  6.6667,  8.8889, 11.1111, 13.3333, 15.5556,\n",
            "        17.7778, 20.0000])\n"
          ],
          "name": "stdout"
        }
      ]
    },
    {
      "cell_type": "code",
      "metadata": {
        "colab": {
          "base_uri": "https://localhost:8080/"
        },
        "id": "v_J-ufh7Gud3",
        "outputId": "8546e5ed-8166-4e28-df45-19500f4fcbf4"
      },
      "source": [
        "# Creating a Tensor with Logarithmically Spaced Floating-Point Numbers\n",
        "\n",
        "log = torch.logspace(-3,3,10) #create 10 logarithmically spaced floats\n",
        "log"
      ],
      "execution_count": null,
      "outputs": [
        {
          "output_type": "execute_result",
          "data": {
            "text/plain": [
              "tensor([1.0000e-03, 4.6416e-03, 2.1544e-02, 1.0000e-01, 4.6416e-01, 2.1544e+00,\n",
              "        1.0000e+01, 4.6416e+01, 2.1544e+02, 1.0000e+03])"
            ]
          },
          "metadata": {
            "tags": []
          },
          "execution_count": 13
        }
      ]
    },
    {
      "cell_type": "code",
      "metadata": {
        "colab": {
          "base_uri": "https://localhost:8080/"
        },
        "id": "mxrsWntgG_vF",
        "outputId": "23c77568-d8c8-43ab-e4f9-6ed5e34f5416"
      },
      "source": [
        "# Creating a Tensor with Dimensions Similar to Another Tensor\n",
        "\n",
        "a = torch.tensor([[0.5,0.5], [0.5,0.5]])\n",
        "print(a)\n",
        "print()\n",
        "\n",
        "b = torch.zeros_like(a)\n",
        "print(b)\n",
        "print()\n",
        "\n",
        "c = torch.ones_like(a)\n",
        "print(c)"
      ],
      "execution_count": null,
      "outputs": [
        {
          "output_type": "stream",
          "text": [
            "tensor([[0.5000, 0.5000],\n",
            "        [0.5000, 0.5000]])\n",
            "\n",
            "tensor([[0., 0.],\n",
            "        [0., 0.]])\n",
            "\n",
            "tensor([[1., 1.],\n",
            "        [1., 1.]])\n"
          ],
          "name": "stdout"
        }
      ]
    },
    {
      "cell_type": "code",
      "metadata": {
        "colab": {
          "base_uri": "https://localhost:8080/"
        },
        "id": "ubpws0C3HodO",
        "outputId": "2752e65a-0cef-4661-a2df-22040e602d2b"
      },
      "source": [
        "# Creating a Tensor with a Range of Integers\n",
        "\n",
        "a = torch.arange(1,10, step=2)\n",
        "print(a)\n",
        "print()\n",
        "\n",
        "a = torch.arange(1.0,10, step=2)\n",
        "print(a)"
      ],
      "execution_count": null,
      "outputs": [
        {
          "output_type": "stream",
          "text": [
            "tensor([1, 3, 5, 7, 9])\n",
            "\n",
            "tensor([1., 3., 5., 7., 9.])\n"
          ],
          "name": "stdout"
        }
      ]
    },
    {
      "cell_type": "code",
      "metadata": {
        "colab": {
          "base_uri": "https://localhost:8080/"
        },
        "id": "tZt7w58UH5Bf",
        "outputId": "ae8fd2f7-eff2-48a8-f59d-22df7da171e5"
      },
      "source": [
        "# Creating a Tensor with a Random Permutation of Integers\n",
        "\n",
        "r = torch.randperm(10)\n",
        "print(r)"
      ],
      "execution_count": null,
      "outputs": [
        {
          "output_type": "stream",
          "text": [
            "tensor([2, 0, 8, 9, 4, 3, 7, 5, 6, 1])\n"
          ],
          "name": "stdout"
        }
      ]
    },
    {
      "cell_type": "markdown",
      "metadata": {
        "id": "h401wME-L_kl"
      },
      "source": [
        "**Tensor Munging Operations**\n",
        "\n",
        "We will start by looking at accessing individual elements of a tensor. The following example should be familiar, as it is identical to the list indexing operator in Python."
      ]
    },
    {
      "cell_type": "code",
      "metadata": {
        "colab": {
          "base_uri": "https://localhost:8080/"
        },
        "id": "8kPk32rtMJEm",
        "outputId": "8bee08e5-e2e1-4042-94e9-582f67867dc0"
      },
      "source": [
        "# Accessing Individual Members of a Tensor\n",
        "\n",
        "a = torch.tensor([[1,2],[3,4]])\n",
        "\n",
        "print(a[0][0])\n",
        "\n",
        "print(a[0][1])\n",
        "\n",
        "print(a[1][0])\n",
        "\n",
        "print(a[1][1])"
      ],
      "execution_count": null,
      "outputs": [
        {
          "output_type": "stream",
          "text": [
            "tensor(1)\n",
            "tensor(2)\n",
            "tensor(3)\n",
            "tensor(4)\n"
          ],
          "name": "stdout"
        }
      ]
    },
    {
      "cell_type": "code",
      "metadata": {
        "colab": {
          "base_uri": "https://localhost:8080/"
        },
        "id": "pFcAklv2MzdL",
        "outputId": "4e5c024b-be9b-4efd-fc4a-618fda89e715"
      },
      "source": [
        "# Reshaping a Tensor\n",
        "\n",
        "a = torch.zeros(10)\n",
        "print(a)\n",
        "print()\n",
        "\n",
        "print(a.shape)\n",
        "\n",
        "print()\n",
        "b = a.view(2,5)\n",
        "print(b)\n",
        "print()\n",
        "\n",
        "print(b.shape)"
      ],
      "execution_count": null,
      "outputs": [
        {
          "output_type": "stream",
          "text": [
            "tensor([0., 0., 0., 0., 0., 0., 0., 0., 0., 0.])\n",
            "\n",
            "torch.Size([10])\n",
            "\n",
            "tensor([[0., 0., 0., 0., 0.],\n",
            "        [0., 0., 0., 0., 0.]])\n",
            "\n",
            "torch.Size([2, 5])\n"
          ],
          "name": "stdout"
        }
      ]
    },
    {
      "cell_type": "code",
      "metadata": {
        "colab": {
          "base_uri": "https://localhost:8080/"
        },
        "id": "vTFsKfwUqvVY",
        "outputId": "6a000cb7-b3da-4e74-9ce7-dabc5bead6e8"
      },
      "source": [
        "# Concatenating Two Tensors\n",
        "\n",
        "a = torch.zeros(2,2)\n",
        "print(a)\n",
        "print()\n",
        "print(a.shape)\n",
        "print()\n",
        "\n",
        "b = torch.cat([a,a,a],0)\n",
        "print(b)\n",
        "print()\n",
        "print(b.shape)\n",
        "print()\n",
        "\n",
        "c = torch.cat([a,a,a],1)\n",
        "print(c)\n",
        "print()\n",
        "print(c.shape)"
      ],
      "execution_count": null,
      "outputs": [
        {
          "output_type": "stream",
          "text": [
            "tensor([[0., 0.],\n",
            "        [0., 0.]])\n",
            "\n",
            "torch.Size([2, 2])\n",
            "\n",
            "tensor([[0., 0.],\n",
            "        [0., 0.],\n",
            "        [0., 0.],\n",
            "        [0., 0.],\n",
            "        [0., 0.],\n",
            "        [0., 0.]])\n",
            "\n",
            "torch.Size([6, 2])\n",
            "\n",
            "tensor([[0., 0., 0., 0., 0., 0.],\n",
            "        [0., 0., 0., 0., 0., 0.]])\n",
            "\n",
            "torch.Size([2, 6])\n"
          ],
          "name": "stdout"
        }
      ]
    },
    {
      "cell_type": "code",
      "metadata": {
        "colab": {
          "base_uri": "https://localhost:8080/"
        },
        "id": "Y7Vqc0casaPp",
        "outputId": "df8bcbee-ebbe-4368-cad3-0959818559d9"
      },
      "source": [
        "# Stacking Tensors\n",
        "\n",
        "a = torch.zeros(2,2)\n",
        "print(a)\n",
        "print(a.shape)\n",
        "print()\n",
        "\n",
        "b = torch.stack([a,a,a],0)\n",
        "print(b)\n",
        "print(b.shape)\n",
        "print()\n",
        "\n",
        "c = torch.stack([a,a,a],1)\n",
        "print(c)\n",
        "print(c.shape)"
      ],
      "execution_count": null,
      "outputs": [
        {
          "output_type": "stream",
          "text": [
            "tensor([[0., 0.],\n",
            "        [0., 0.]])\n",
            "torch.Size([2, 2])\n",
            "\n",
            "tensor([[[0., 0.],\n",
            "         [0., 0.]],\n",
            "\n",
            "        [[0., 0.],\n",
            "         [0., 0.]],\n",
            "\n",
            "        [[0., 0.],\n",
            "         [0., 0.]]])\n",
            "torch.Size([3, 2, 2])\n",
            "\n",
            "tensor([[[0., 0.],\n",
            "         [0., 0.],\n",
            "         [0., 0.]],\n",
            "\n",
            "        [[0., 0.],\n",
            "         [0., 0.],\n",
            "         [0., 0.]]])\n",
            "torch.Size([2, 3, 2])\n"
          ],
          "name": "stdout"
        }
      ]
    },
    {
      "cell_type": "markdown",
      "metadata": {
        "id": "aIu1MKttvNok"
      },
      "source": [
        "The index_select method allows you to extract parts of a tensor along\n",
        "a given dimension. Note that the method takes three arguments: the tensor\n",
        "to operate on, the dimension along which to extract data, and the tensor\n",
        "containing the indices."
      ]
    },
    {
      "cell_type": "code",
      "metadata": {
        "colab": {
          "base_uri": "https://localhost:8080/"
        },
        "id": "JMBwEJ-ntV0h",
        "outputId": "6d38ea99-093c-423e-f940-7a5da7aa7d98"
      },
      "source": [
        "# Extracting Parts of Tensors Using index_select\n",
        "\n",
        "a = torch.FloatTensor([[1 ,2, 3],[4, 5, 6], [7, 8, 9]])\n",
        "print(a)\n",
        "print(a.shape)\n",
        "print()\n",
        "\n",
        "index = torch.LongTensor([0, 1])\n",
        "\n",
        "b = torch.index_select(a,0,index)\n",
        "print(b)\n",
        "print(b.shape)\n",
        "print()\n",
        "\n",
        "c = torch.index_select(a,1,index)\n",
        "print(c)\n",
        "print(c.shape)"
      ],
      "execution_count": null,
      "outputs": [
        {
          "output_type": "stream",
          "text": [
            "tensor([[1., 2., 3.],\n",
            "        [4., 5., 6.],\n",
            "        [7., 8., 9.]])\n",
            "torch.Size([3, 3])\n",
            "\n",
            "tensor([[1., 2., 3.],\n",
            "        [4., 5., 6.]])\n",
            "torch.Size([2, 3])\n",
            "\n",
            "tensor([[1., 2.],\n",
            "        [4., 5.],\n",
            "        [7., 8.]])\n",
            "torch.Size([3, 2])\n"
          ],
          "name": "stdout"
        }
      ]
    },
    {
      "cell_type": "code",
      "metadata": {
        "colab": {
          "base_uri": "https://localhost:8080/"
        },
        "id": "YOm8pWUs186O",
        "outputId": "86475ca8-38f3-4dc6-f784-c028d0d069cd"
      },
      "source": [
        "# Reshaping a Tensor with the squeeze Method\n",
        "\n",
        "## The squeeze method removes all dimensions with a value of one,\n",
        "\n",
        "a = torch.zeros(2,2,1)\n",
        "print(a)\n",
        "print(a.shape)\n",
        "print()\n",
        "\n",
        "b = torch.unsqueeze(a, 0)\n",
        "print(b)\n",
        "print()\n",
        "\n",
        "c = torch.unsqueeze(a,1)\n",
        "print(c)\n",
        "print(c.shape)"
      ],
      "execution_count": null,
      "outputs": [
        {
          "output_type": "stream",
          "text": [
            "tensor([[[0.],\n",
            "         [0.]],\n",
            "\n",
            "        [[0.],\n",
            "         [0.]]])\n",
            "torch.Size([2, 2, 1])\n",
            "\n",
            "tensor([[[[0.],\n",
            "          [0.]],\n",
            "\n",
            "         [[0.],\n",
            "          [0.]]]])\n",
            "\n",
            "tensor([[[[0.],\n",
            "          [0.]]],\n",
            "\n",
            "\n",
            "        [[[0.],\n",
            "          [0.]]]])\n",
            "torch.Size([2, 1, 2, 1])\n"
          ],
          "name": "stdout"
        }
      ]
    },
    {
      "cell_type": "code",
      "metadata": {
        "colab": {
          "base_uri": "https://localhost:8080/"
        },
        "id": "qqzbkgfk3oFP",
        "outputId": "38c5ea74-d567-41ea-b34c-a3a4286f791f"
      },
      "source": [
        "# Constructing a Tensor from an Existing Tensor Using\n",
        "# the where Method\n",
        "\n",
        "a = torch.zeros(3,3)\n",
        "print(a)\n",
        "print(a.shape)\n",
        "print()\n",
        "\n",
        "b = torch.ones(3,3)\n",
        "print(b)\n",
        "print(b.shape)\n",
        "print()\n",
        "\n",
        "c = torch.rand(3,3)\n",
        "print(c)\n",
        "print()\n",
        "\n",
        "d = torch.where(c > 0.5, a, b)\n",
        "print(d)\n",
        "print(d.shape)"
      ],
      "execution_count": null,
      "outputs": [
        {
          "output_type": "stream",
          "text": [
            "tensor([[0., 0., 0.],\n",
            "        [0., 0., 0.],\n",
            "        [0., 0., 0.]])\n",
            "torch.Size([3, 3])\n",
            "\n",
            "tensor([[1., 1., 1.],\n",
            "        [1., 1., 1.],\n",
            "        [1., 1., 1.]])\n",
            "torch.Size([3, 3])\n",
            "\n",
            "tensor([[0.0315, 0.5365, 0.5475],\n",
            "        [0.8006, 0.8605, 0.0518],\n",
            "        [0.2429, 0.0222, 0.2058]])\n",
            "\n",
            "tensor([[1., 0., 0.],\n",
            "        [0., 0., 1.],\n",
            "        [1., 1., 1.]])\n",
            "torch.Size([3, 3])\n"
          ],
          "name": "stdout"
        }
      ]
    },
    {
      "cell_type": "markdown",
      "metadata": {
        "id": "AXi0FzvOMbsH"
      },
      "source": [
        "**Element-Wise Mathematical Operations**\n",
        "\n",
        "Let us now take a look at a number of element-wise mathematical\n",
        "operations. These operations are called element-wise mathematical\n",
        "operations because an identical operation being performed on each of the\n",
        "elements of the tensor."
      ]
    },
    {
      "cell_type": "code",
      "metadata": {
        "colab": {
          "base_uri": "https://localhost:8080/"
        },
        "id": "ZR7uFLQZMxAV",
        "outputId": "fb1b13dc-69e6-4fa3-e58b-b8d5655f07b4"
      },
      "source": [
        "# Element-Wise Multiplication\n",
        "\n",
        "a = torch.rand(3,3)\n",
        "print(a)\n",
        "print()\n",
        "\n",
        "b = torch.FloatTensor([[0, 1, 0],[1,1,1],[0,1,0]])\n",
        "print(b)\n",
        "print()\n",
        "\n",
        "c = torch.mul(a,b)\n",
        "print(c)"
      ],
      "execution_count": null,
      "outputs": [
        {
          "output_type": "stream",
          "text": [
            "tensor([[1.9012e-02, 1.8993e-01, 7.8799e-03],\n",
            "        [4.8984e-01, 9.3385e-01, 2.6009e-01],\n",
            "        [6.5214e-02, 9.7557e-01, 6.0445e-04]])\n",
            "\n",
            "tensor([[0., 1., 0.],\n",
            "        [1., 1., 1.],\n",
            "        [0., 1., 0.]])\n",
            "\n",
            "tensor([[0.0000, 0.1899, 0.0000],\n",
            "        [0.4898, 0.9338, 0.2601],\n",
            "        [0.0000, 0.9756, 0.0000]])\n"
          ],
          "name": "stdout"
        }
      ]
    },
    {
      "cell_type": "code",
      "metadata": {
        "colab": {
          "base_uri": "https://localhost:8080/"
        },
        "id": "jmZkA7lRN2tM",
        "outputId": "42880cc7-5d45-446e-d712-c06f17ca45a3"
      },
      "source": [
        "# Element-Wise Division\n",
        "\n",
        "a = torch.rand(3,3)\n",
        "print(a)\n",
        "print()\n",
        "\n",
        "b = torch.FloatTensor([[1, 2, 1],[2,2,2],[1,2,1]])\n",
        "print(b)\n",
        "print()\n",
        "\n",
        "c = torch.div(a,b)\n",
        "print(c)"
      ],
      "execution_count": null,
      "outputs": [
        {
          "output_type": "stream",
          "text": [
            "tensor([[0.0044, 0.3691, 0.2695],\n",
            "        [0.6151, 0.3484, 0.7172],\n",
            "        [0.9973, 0.3192, 0.3253]])\n",
            "\n",
            "tensor([[1., 2., 1.],\n",
            "        [2., 2., 2.],\n",
            "        [1., 2., 1.]])\n",
            "\n",
            "tensor([[0.0044, 0.1845, 0.2695],\n",
            "        [0.3075, 0.1742, 0.3586],\n",
            "        [0.9973, 0.1596, 0.3253]])\n"
          ],
          "name": "stdout"
        }
      ]
    },
    {
      "cell_type": "markdown",
      "metadata": {
        "id": "mck7wV7LOjb4"
      },
      "source": [
        "**Linear Algebraic Operations**"
      ]
    },
    {
      "cell_type": "code",
      "metadata": {
        "colab": {
          "base_uri": "https://localhost:8080/"
        },
        "id": "Xc_rnxk4Oieb",
        "outputId": "ac8d4bce-d99d-4bea-91d0-80d4f07bb862"
      },
      "source": [
        "a = torch.ones(2,3)\n",
        "print(a)\n",
        "print()\n",
        "\n",
        "b = torch.ones(3,2)\n",
        "print(b)\n",
        "print()\n",
        "\n",
        "c = torch.matmul(a,b)\n",
        "print(c)\n",
        "print(c.shape)"
      ],
      "execution_count": null,
      "outputs": [
        {
          "output_type": "stream",
          "text": [
            "tensor([[1., 1., 1.],\n",
            "        [1., 1., 1.]])\n",
            "\n",
            "tensor([[1., 1.],\n",
            "        [1., 1.],\n",
            "        [1., 1.]])\n",
            "\n",
            "tensor([[3., 3.],\n",
            "        [3., 3.]])\n",
            "torch.Size([2, 2])\n"
          ],
          "name": "stdout"
        }
      ]
    },
    {
      "cell_type": "markdown",
      "metadata": {
        "id": "uzBV8hm3enjG"
      },
      "source": [
        "*Building a Neural Network in PyTorch*\n",
        "\n",
        "The creation of neural networks in PyTorch is done via the nn.Module.\n",
        "This is a base class, and we use inheritance to access it. After the\n",
        "import, we will be able to use all the functionality of nn.Module base\n",
        "class, but we will still have the overwriting capabilities of the base class\n",
        "for forward pass/ model construction through the network."
      ]
    },
    {
      "cell_type": "code",
      "metadata": {
        "id": "b7z5y8XGfLI6"
      },
      "source": [
        "import torch.nn as nn\n",
        "import torch.nn.functional as F"
      ],
      "execution_count": null,
      "outputs": []
    },
    {
      "cell_type": "markdown",
      "metadata": {
        "id": "LmJCb2fQhlLX"
      },
      "source": [
        "We import the nn.Module class through inheritance. In the first line of\n",
        "our class initialization, that is, def \\__init__(self): we have the super()\n",
        "function. This will create an instance of the base class, that is,\n",
        "nn.Module. The next three lines have then been used to create fully\n",
        "connected layers of the neural network. The nn.Linear object\n",
        "represents a fully connected. The first argument in this definition\n",
        "denotes the number of nodes in layer. The next argument denotes the\n",
        "number of nodes in the layer l + 1. The first layer will take 28 * 28\n",
        "input pixels and it will connect to the first 200 node hidden layer. We\n",
        "then have 200 to 200 hidden layers then a connection between the\n",
        "hidden layer and the output layer with a total of 10 nodes"
      ]
    },
    {
      "cell_type": "code",
      "metadata": {
        "id": "rpbPf6s0f_yb"
      },
      "source": [
        "class Net(nn.Module):\n",
        "  def __init__(self):\n",
        "    super(Net, self).__init__()\n",
        "    self.fc1 = nn.Linear(28*28, 200)\n",
        "    self.fc2 = nn.Linear(200, 200)\n",
        "    self.fc3 = nn.Linear(200, 10)\n",
        "\n",
        "  \n",
        "  def forward(self, x):\n",
        "    x = F.relu(self.fc1(x))\n",
        "    x = F.relu(self.fc2(x))\n",
        "    x = self.fc3(x)\n",
        "\n",
        "    return F.log_softmax(x)"
      ],
      "execution_count": null,
      "outputs": []
    },
    {
      "cell_type": "markdown",
      "metadata": {
        "id": "KDprvpIxjPCN"
      },
      "source": [
        "In the forward() method defined above, we have passed the input data\n",
        "x to be the primary argument. This has then been fed into the first\n",
        "fully connected layer, that is, self.fc1(x). A ReLU activation function has\n",
        "then been applied to the nodes in the layer via F.relu() . The network is\n",
        "hierarchical in nature, hence we have added x at every stage, so that it\n",
        "can be fed into the next layer. This has been through the three fully\n",
        "connected layers, except the last one, where we have used a log\n",
        "softmax activation function rather than ReLU. This, when combined\n",
        "with negative log likelihood loss function returns a multi-class cross\n",
        "entropy based loss function that will be used for training the network.\n",
        "\n",
        "\n",
        "Next, we need to create an instance of our network architecture:"
      ]
    },
    {
      "cell_type": "code",
      "metadata": {
        "colab": {
          "base_uri": "https://localhost:8080/"
        },
        "id": "pJPytHc3jo9Y",
        "outputId": "bf468acd-52d6-48f5-e2d6-cc61dccd7511"
      },
      "source": [
        "net = Net()\n",
        "\n",
        "print(net)"
      ],
      "execution_count": null,
      "outputs": [
        {
          "output_type": "stream",
          "text": [
            "Net(\n",
            "  (fc1): Linear(in_features=784, out_features=200, bias=True)\n",
            "  (fc2): Linear(in_features=200, out_features=200, bias=True)\n",
            "  (fc3): Linear(in_features=200, out_features=10, bias=True)\n",
            ")\n"
          ],
          "name": "stdout"
        }
      ]
    },
    {
      "cell_type": "markdown",
      "metadata": {
        "id": "LPRjTefbkOh-"
      },
      "source": [
        "*Training*\n",
        "\n",
        "It is now time for us to train the network. We should begin by setting\n",
        "up an optimizer and a loss criterion:"
      ]
    },
    {
      "cell_type": "code",
      "metadata": {
        "id": "14SD9Z6nlLKh"
      },
      "source": [
        "# Let’s first create a stochastic gradient descent optimizer\n",
        "\n",
        "import torch.optim as optim\n",
        "\n",
        "\n",
        "learning_rate = 0.001\n",
        "\n",
        "optimizer = optim.SGD(net.parameters(), lr=learning_rate,\n",
        "                      momentum=0.9)\n",
        "\n",
        "\n",
        "# Then we create a loss function\n",
        "criterion = nn.NLLLoss()"
      ],
      "execution_count": null,
      "outputs": []
    }
  ]
}