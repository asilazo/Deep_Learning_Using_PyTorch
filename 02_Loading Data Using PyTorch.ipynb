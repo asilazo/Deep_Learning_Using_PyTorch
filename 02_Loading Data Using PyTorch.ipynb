{
 "metadata": {
  "language_info": {
   "codemirror_mode": {
    "name": "ipython",
    "version": 3
   },
   "file_extension": ".py",
   "mimetype": "text/x-python",
   "name": "python",
   "nbconvert_exporter": "python",
   "pygments_lexer": "ipython3",
   "version": "3.8.10"
  },
  "orig_nbformat": 2,
  "kernelspec": {
   "name": "python3810jvsc74a57bd0c6e36489e23d729c85a59c056dea4050b860c220e06f92a3d54df0e0263b3258",
   "display_name": "Python 3.8.10 64-bit"
  }
 },
 "nbformat": 4,
 "nbformat_minor": 2,
 "cells": [
  {
   "source": [
    "In the following sections, we will use PyTorch packages to work with datasets."
   ],
   "cell_type": "markdown",
   "metadata": {}
  },
  {
   "cell_type": "code",
   "execution_count": 1,
   "metadata": {},
   "outputs": [],
   "source": [
    "import torch\n",
    "import torchvision\n",
    "from torchvision import datasets, transforms\n",
    "\n",
    "import os"
   ]
  },
  {
   "cell_type": "code",
   "execution_count": 2,
   "metadata": {},
   "outputs": [
    {
     "output_type": "execute_result",
     "data": {
      "text/plain": [
       "'e:\\\\Ubuntu_BKP\\\\Data_and_Scripts\\\\Data_and_Code\\\\03. Python\\\\PyTorch Essentials'"
      ]
     },
     "metadata": {},
     "execution_count": 2
    }
   ],
   "source": [
    "os.getcwd()"
   ]
  },
  {
   "cell_type": "code",
   "execution_count": 5,
   "metadata": {},
   "outputs": [],
   "source": [
    "# path to store data and/or load from\n",
    "\n",
    "path = \"./Data\"\n",
    "\n",
    "# loading training data\n",
    "\n",
    "train_data = datasets.MNIST(path, train=True, download=False)"
   ]
  },
  {
   "source": [
    "Then extract the input data and target labels"
   ],
   "cell_type": "markdown",
   "metadata": {}
  },
  {
   "cell_type": "code",
   "execution_count": 6,
   "metadata": {},
   "outputs": [
    {
     "output_type": "stream",
     "name": "stdout",
     "text": [
      "torch.Size([60000, 28, 28])\ntorch.Size([60000])\n"
     ]
    }
   ],
   "source": [
    "# extract data and targets\n",
    "\n",
    "X_train, y_train = train_data.data, train_data.targets\n",
    "print(X_train.shape)\n",
    "print(y_train.shape)"
   ]
  },
  {
   "cell_type": "code",
   "execution_count": 7,
   "metadata": {},
   "outputs": [],
   "source": [
    "# load the MNIST test dataset\n",
    "\n",
    "val_data = datasets.MNIST(path, train=False, download=False)"
   ]
  },
  {
   "cell_type": "code",
   "execution_count": 8,
   "metadata": {},
   "outputs": [
    {
     "output_type": "stream",
     "name": "stdout",
     "text": [
      "torch.Size([10000, 28, 28])\ntorch.Size([10000])\n"
     ]
    }
   ],
   "source": [
    "# extract the input data and target labels\n",
    "\n",
    "X_val, y_val = val_data.data, val_data.targets\n",
    "print(X_val.shape)\n",
    "print(y_val.shape)"
   ]
  },
  {
   "cell_type": "code",
   "execution_count": 9,
   "metadata": {},
   "outputs": [
    {
     "output_type": "stream",
     "name": "stdout",
     "text": [
      "torch.Size([60000, 1, 28, 28])\ntorch.Size([10000, 1, 28, 28])\n"
     ]
    }
   ],
   "source": [
    "# add a dimension to tensor to become B*C*H*W\n",
    "\n",
    "if len(X_train.shape) == 3:\n",
    "    X_train = X_train.unsqueeze(1)\n",
    "print(X_train.shape)\n",
    "\n",
    "\n",
    "if len(X_val.shape) == 3:\n",
    "    X_val = X_val.unsqueeze(1)\n",
    "print(X_val.shape)"
   ]
  },
  {
   "source": [
    "Display a few sample images"
   ],
   "cell_type": "markdown",
   "metadata": {}
  },
  {
   "cell_type": "code",
   "execution_count": 10,
   "metadata": {},
   "outputs": [],
   "source": [
    "from torchvision import utils\n",
    "import numpy as np\n",
    "import matplotlib.pyplot as plt\n",
    "%matplotlib inline"
   ]
  },
  {
   "cell_type": "code",
   "execution_count": 11,
   "metadata": {},
   "outputs": [],
   "source": [
    "# display a few sample images\n",
    "\n",
    "def show(img):\n",
    "    # convert tensor to numpy array\n",
    "    npimg = img.numpy()\n",
    "\n",
    "    # convert to H*W*C shape\n",
    "    npimg_tr = np.transpose(npimg, (1,2,0))\n",
    "\n",
    "    plt.imshow(npimg_tr, interpolation='nearest')"
   ]
  },
  {
   "cell_type": "code",
   "execution_count": 12,
   "metadata": {},
   "outputs": [
    {
     "output_type": "stream",
     "name": "stdout",
     "text": [
      "torch.Size([3, 152, 242])\n"
     ]
    }
   ],
   "source": [
    "# create a grid of images and display them\n",
    "\n",
    "# make a grid of 40 images, 8 images per row\n",
    "x_grid = utils.make_grid(X_train[:40], nrow=8, padding=2)\n",
    "print(x_grid.shape)\n",
    "\n",
    "# calling helper function\n",
    "show(x_grid)"
   ]
  },
  {
   "source": [
    "# Data transformation\n",
    "\n",
    "Image transformation (also called augmentation) is an effective technique \n",
    "that's used to improve a model's performance. The torchvision package \n",
    "provides common image transformations through the transform class. \n",
    "Let's take a look:"
   ],
   "cell_type": "markdown",
   "metadata": {}
  },
  {
   "cell_type": "code",
   "execution_count": null,
   "metadata": {},
   "outputs": [],
   "source": [
    "# define a transform class in order to apply some image transformations on the MNIST dataset\n",
    "\n",
    "#from torchvision import transforms"
   ]
  },
  {
   "cell_type": "code",
   "execution_count": null,
   "metadata": {},
   "outputs": [],
   "source": [
    "# make sure the MNIST data is already loaded\n",
    "\n",
    "# let definie some transformations\n",
    "\n",
    "data_transform = transforms.Compose([\n",
    "    transforms.RandomHorizontalFlip(p=1),\n",
    "    transforms.RandomVerticalFlip(p=1),\n",
    "    transforms.ToTensor(),\n",
    "])"
   ]
  },
  {
   "cell_type": "code",
   "execution_count": null,
   "metadata": {},
   "outputs": [],
   "source": [
    "# apply the transformations on an image from the MNIST dataset\n",
    "\n",
    "# get a sample image from training dataset\n",
    "img = train_data[0][0]\n",
    "\n",
    "# transform sample image\n",
    "img_tr=data_transform(img)\n",
    "\n",
    "# convert tensor to numpy array\n",
    "img_tr_np = img_tr.numpy()\n",
    "\n",
    "# show original and transformed images\n",
    "plt.subplot(1,2,1)\n",
    "plt.imshow(img,cmap=\"gray\")\n",
    "plt.title(\"original\")\n",
    "plt.subplot(1,2,2)\n",
    "plt.imshow(img_tr_np[0],cmap=\"gray\");\n",
    "plt.title(\"transformed\")"
   ]
  },
  {
   "source": [
    "Pass the transformer function to the dataset class"
   ],
   "cell_type": "markdown",
   "metadata": {}
  },
  {
   "cell_type": "code",
   "execution_count": null,
   "metadata": {},
   "outputs": [],
   "source": [
    "# define transformations\n",
    "\n",
    "data_transform = transforms.Compose([\n",
    "        transforms.RandomHorizontalFlip(1),\n",
    "        transforms.RandomVerticalFlip(1),\n",
    "        transforms.ToTensor(),\n",
    "    ])\n",
    "\n",
    "# Loading MNIST training data with on-the-fly transformations\n",
    "train_data=datasets.MNIST(path2data, train=True, download=True, transform=data_transform)"
   ]
  },
  {
   "source": [
    "# Wrapping tensors into a dataset\n",
    "\n",
    "If your data is available in tensors, you can wrap them as a PyTorch dataset using the \n",
    "TensorDataset class. This will make it easier to iterate over data during training. \n",
    "Let's get started:"
   ],
   "cell_type": "markdown",
   "metadata": {}
  },
  {
   "cell_type": "code",
   "execution_count": null,
   "metadata": {},
   "outputs": [],
   "source": [
    "from torch.utils.data import TensorDataset"
   ]
  },
  {
   "cell_type": "code",
   "execution_count": null,
   "metadata": {},
   "outputs": [],
   "source": [
    "# wrap tensors into a dataset\n",
    "\n",
    "train_ds = TensorDataset(X_train, y_train)\n",
    "Val_ds = TensorDataset(X_val, y_val)\n",
    "\n",
    "for x,y in train_ds:\n",
    "    print(x.shape, y.item())\n",
    "    break\n"
   ]
  },
  {
   "source": [
    "# Creating data loaders\n",
    "To easily iterate over the data during training, we can create a data loader using the DataLoader class, as follows"
   ],
   "cell_type": "markdown",
   "metadata": {}
  },
  {
   "cell_type": "code",
   "execution_count": null,
   "metadata": {},
   "outputs": [],
   "source": [
    "from torch.utils.data import DataLoader\n",
    "\n",
    "# create a data loader from dataset\n",
    "\n",
    "train_dl = DataLoader(train_ds, batch_size=8)\n",
    "val_dl = DataLoader(Val_ds, batch_size=8)\n",
    "\n",
    "# iterate over the batches\n",
    "for xb, yb in train_dl:\n",
    "    print(xb.shape)\n",
    "    print(yb.shape)"
   ]
  }
 ]
}