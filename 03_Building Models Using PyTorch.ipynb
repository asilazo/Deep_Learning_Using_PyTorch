{
 "metadata": {
  "language_info": {
   "codemirror_mode": {
    "name": "ipython",
    "version": 3
   },
   "file_extension": ".py",
   "mimetype": "text/x-python",
   "name": "python",
   "nbconvert_exporter": "python",
   "pygments_lexer": "ipython3",
   "version": "3.8.10"
  },
  "orig_nbformat": 2,
  "kernelspec": {
   "name": "python3810jvsc74a57bd0fec8b102f7b88d2f49c12802992373495edaa2417752b343d572adbca691d53d",
   "display_name": "Python 3.8.10 64-bit ('tnsflow2_gpu': conda)"
  }
 },
 "nbformat": 4,
 "nbformat_minor": 2,
 "cells": [
  {
   "source": [
    "# Building models\n",
    "\n",
    "A model is a collection of connected layers that process the inputs to generate the outputs. You can use the nn package to define models. The nn package is a collection of modules that provide common deep learning layers. A module or layer of _nn_ receives input tensors, computes output tensors, and holds the weights, if any. There are two methods we can use to define models in PyTorch: _nn.Sequential_ and _nn.Module_."
   ],
   "cell_type": "markdown",
   "metadata": {}
  },
  {
   "source": [
    "# Defining a linear layer\n",
    "\n",
    "# create a linear layer and print out its output size:\n",
    "\n",
    "import torch\n",
    "import torch.nn as nn\n",
    "\n",
    "# input tensor dimension 64*1000, i.e., our input tensor has 64 features and 1000 observations\n",
    "input_tensor = torch.randn(64, 1000)\n",
    "\n",
    "# linear layer with 1000 inputs and 100 outputs\n",
    "linear_layer = nn.Linear(1000, 100)\n",
    "\n",
    "# output of the linear layer\n",
    "output = linear_layer(input_tensor) \n",
    "print(output.size())"
   ],
   "cell_type": "code",
   "metadata": {},
   "execution_count": 1,
   "outputs": [
    {
     "output_type": "stream",
     "name": "stdout",
     "text": [
      "torch.Size([64, 100])\n"
     ]
    }
   ]
  },
  {
   "source": [
    "## Defining models using nn.Sequential\n",
    "\n",
    "We can use the nn.Sequential package to create a deep learning model by passing layers in order. Consider the two-layer neural network depicted in the following image:\n",
    "\n",
    "Our network has four nodes as input, five nodes in the hidden layer, and one node as the output"
   ],
   "cell_type": "markdown",
   "metadata": {}
  },
  {
   "cell_type": "code",
   "execution_count": 2,
   "metadata": {},
   "outputs": [
    {
     "output_type": "stream",
     "name": "stdout",
     "text": [
      "Sequential(\n  (0): Linear(in_features=4, out_features=5, bias=True)\n  (1): ReLU()\n  (2): Linear(in_features=5, out_features=1, bias=True)\n)\n"
     ]
    }
   ],
   "source": [
    "# define a two-layer model\n",
    "model = nn.Sequential(\n",
    "    nn.Linear(4, 5),\n",
    "    nn.ReLU(),\n",
    "    nn.Linear(5, 1),\n",
    ")\n",
    "\n",
    "print(model)"
   ]
  },
  {
   "source": [
    "## Defining models using nn.Module\n",
    "\n",
    "Another way of defining models in PyTorch is by subclassing the nn.Module class. \n",
    "In this method, we specify the layers in the __init__ method of the class. Then, \n",
    "in the forward method, we apply the layers to inputs. This method provides better \n",
    "flexibility for building customized models."
   ],
   "cell_type": "markdown",
   "metadata": {}
  },
  {
   "cell_type": "code",
   "execution_count": 7,
   "metadata": {},
   "outputs": [],
   "source": [
    "import torch.nn.functional as F\n",
    "\n",
    "\n",
    "class Net(nn.Module):\n",
    "\n",
    "    # defining the __init__ function\n",
    "    def __init__(self):\n",
    "        super(Net, self).__init__()\n",
    "        self.conv1 = nn.Conv2d(1, 20, 5, 1)\n",
    "        self.conv2 = nn.Conv2d(20, 50, 5, 1)\n",
    "        self.fc1 = nn.Linear(4*4*50, 500)\n",
    "        self.fc2 = nn.Linear(500, 10)\n",
    "    \n",
    "\n",
    "    def forward(self, x):\n",
    "        x = F.relu(self.conv1(x))\n",
    "        x = F.max_pool2d(x, 2, 2)\n",
    "        x = F.relu(self.conv2(x))\n",
    "        x = F.max_pool2d(x, 2, 2)\n",
    "        x = x.view(-1, (4*4*50))\n",
    "        x = F.relu(self.fc1(x))\n",
    "        x = self.fc2(x)\n",
    "\n",
    "        return F.log_softmax(x, dim=1)\n",
    "\n",
    "\n",
    "\n",
    "# override both class functions, __init__ and forward\n",
    "\n",
    "#Net.__init__ = __init__\n",
    "#Net.forward = forward"
   ]
  },
  {
   "cell_type": "code",
   "execution_count": 8,
   "metadata": {},
   "outputs": [
    {
     "output_type": "stream",
     "name": "stdout",
     "text": [
      "Net(\n  (conv1): Conv2d(1, 20, kernel_size=(5, 5), stride=(1, 1))\n  (conv2): Conv2d(20, 50, kernel_size=(5, 5), stride=(1, 1))\n  (fc1): Linear(in_features=800, out_features=500, bias=True)\n  (fc2): Linear(in_features=500, out_features=10, bias=True)\n)\n"
     ]
    }
   ],
   "source": [
    "# create an object of the Net class and print the model\n",
    "\n",
    "model = Net()\n",
    "print(model)"
   ]
  },
  {
   "source": [
    "# Moving the model to a CUDA device\n",
    "\n",
    "A model is a collection of parameters. By default, the model will be hosted on the CPU"
   ],
   "cell_type": "markdown",
   "metadata": {}
  },
  {
   "cell_type": "code",
   "execution_count": 10,
   "metadata": {},
   "outputs": [
    {
     "output_type": "stream",
     "name": "stdout",
     "text": [
      "cpu\n"
     ]
    }
   ],
   "source": [
    "# get the model's current device\n",
    "\n",
    "print(next(model.parameters()).device)"
   ]
  },
  {
   "source": [
    "To take advantage of the GPU, we need to move our input tensors and the model itself to the GPU by explicitly using the to() method.\n",
    "\n",
    "Here, we copy the model to the GPU if PyTorch reports that one is available, or otherwise keep the model on the CPU. \n",
    "By using this construction, we can determine whether a GPU is available at the start of our code "
   ],
   "cell_type": "markdown",
   "metadata": {}
  },
  {
   "cell_type": "code",
   "execution_count": 11,
   "metadata": {},
   "outputs": [
    {
     "output_type": "execute_result",
     "data": {
      "text/plain": [
       "Net(\n",
       "  (conv1): Conv2d(1, 20, kernel_size=(5, 5), stride=(1, 1))\n",
       "  (conv2): Conv2d(20, 50, kernel_size=(5, 5), stride=(1, 1))\n",
       "  (fc1): Linear(in_features=800, out_features=500, bias=True)\n",
       "  (fc2): Linear(in_features=500, out_features=10, bias=True)\n",
       ")"
      ]
     },
     "metadata": {},
     "execution_count": 11
    }
   ],
   "source": [
    "if torch.cuda.is_available():\n",
    "    device = torch.device(\"cuda\")\n",
    "else:\n",
    "    device = torch.device(\"cpu\")\n",
    "\n",
    "\n",
    "model.to(device)"
   ]
  },
  {
   "cell_type": "code",
   "execution_count": null,
   "metadata": {},
   "outputs": [],
   "source": []
  }
 ]
}